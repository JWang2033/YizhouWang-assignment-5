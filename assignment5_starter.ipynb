{
  "cells": [
    {
      "cell_type": "code",
      "execution_count": null,
      "metadata": {
        "id": "bb81c3FYTZJw"
      },
      "outputs": [],
      "source": [
        "import numpy as np\n",
        "import pandas as pd"
      ]
    },
    {
      "cell_type": "code",
      "execution_count": null,
      "metadata": {
        "id": "vR_WwjBJTZJx"
      },
      "outputs": [],
      "source": [
        "# Define the KNN class\n",
        "class KNN:\n",
        "    def __init__(self, k=3, distance_metric='euclidean'):\n",
        "        self.k = k\n",
        "        self.distance_metric = distance_metric\n",
        "\n",
        "    def fit(self, X, y):\n",
        "        # TODO: Implement the fit method\n",
        "        self.X_train = X\n",
        "        self.y_train = y\n",
        "\n",
        "    def predict(self, X):\n",
        "        # TODO: Implement the predict method\n",
        "        # Implement the predict method: Predict for multiple data points\n",
        "        predictions = []\n",
        "        for x in X:\n",
        "            # Compute distances between x and all examples in the training set\n",
        "            distances = [self.compute_distance(x, x_train) for x_train in self.X_train]\n",
        "            # Sort by distance and return the indices of the first k neighbors\n",
        "            k_indices = np.argsort(distances)[:self.k]\n",
        "            # Extract the labels of the k nearest neighbor training samples\n",
        "            k_nearest_labels = [self.y_train[i] for i in k_indices]\n",
        "            # Find the most common class label\n",
        "            most_common_label = np.bincount(k_nearest_labels).argmax()\n",
        "            predictions.append(most_common_label)\n",
        "        return predictions\n",
        "\n",
        "    def compute_distance(self, X1, X2):\n",
        "        # TODO: Implement distance computation based on self.distance_metric\n",
        "        # Hint: Use numpy operations for efficient computation\n",
        "        if self.distance_metric == 'euclidean':\n",
        "            return np.sqrt(np.sum((X1 - X2)**2))\n",
        "        elif self.distance_metric == 'manhattan':\n",
        "            return np.sum(np.abs(X1 - X2))\n"
      ]
    },
    {
      "cell_type": "code",
      "execution_count": null,
      "metadata": {
        "id": "BNoM9C-bTZJy"
      },
      "outputs": [],
      "source": [
        "# Define data preprocessing function\n",
        "def preprocess_data(train_path, test_path):\n",
        "    from sklearn.pipeline import Pipeline\n",
        "    from sklearn.compose import ColumnTransformer\n",
        "    from sklearn.impute import SimpleImputer\n",
        "    from sklearn.preprocessing import StandardScaler, OneHotEncoder\n",
        "    train_data = pd.read_csv(train_path)\n",
        "    test_data = pd.read_csv(test_path)\n",
        "\n",
        "    # TODO: Implement data preprocessing\n",
        "    # Handle categorical variables, scale features, etc.\n",
        "    # Handle missing values only for numeric columns\n",
        "    X_train = train_data.drop(columns=['CustomerId', 'Surname','Exited'])\n",
        "    y_train = train_data['Exited']\n",
        "    X_test = test_data.drop(columns=['CustomerId','Surname'])\n",
        "\n",
        "    # Separate features and target variable\n",
        "    X_train = train_data.drop(columns=['CustomerId', 'Surname', 'Exited'])\n",
        "    y_train = train_data['Exited']\n",
        "    X_test = test_data.drop(columns=['CustomerId', 'Surname'])\n",
        "\n",
        "    # Define preprocessing for numerical features: impute missing values, then scale\n",
        "    numerical_features = ['CreditScore', 'Age', 'Tenure', 'Balance', 'NumOfProducts', 'EstimatedSalary']\n",
        "    numerical_transformer = Pipeline(steps=[\n",
        "        ('imputer', SimpleImputer(strategy='mean')),  # Fill missing values with the mean\n",
        "        ('scaler', StandardScaler())  # Standardize the numerical features\n",
        "    ])\n",
        "\n",
        "    # Define preprocessing for categorical features: impute missing values, then one-hot encode\n",
        "    categorical_features = ['Geography', 'Gender']\n",
        "    categorical_transformer = Pipeline(steps=[\n",
        "        ('imputer', SimpleImputer(strategy='most_frequent')),  # Fill missing categorical values with the most frequent value\n",
        "        ('onehot', OneHotEncoder(handle_unknown='ignore'))  # One-hot encode the categorical features\n",
        "    ])\n",
        "\n",
        "    # Combine preprocessing for numerical and categorical features\n",
        "    preprocessor = ColumnTransformer(\n",
        "        transformers=[\n",
        "            ('num', numerical_transformer, numerical_features),\n",
        "            ('cat', categorical_transformer, categorical_features)\n",
        "        ]\n",
        "    )\n",
        "\n",
        "    # Preprocess the training and test data\n",
        "    X_train = preprocessor.fit_transform(X_train)\n",
        "    X_test = preprocessor.transform(X_test)\n",
        "\n",
        "    return X_train, y_train, X_test\n"
      ]
    },
    {
      "cell_type": "code",
      "execution_count": null,
      "metadata": {
        "id": "TNhZ4Q88TZJz"
      },
      "outputs": [],
      "source": [
        "# Define cross-validation function\n",
        "def cross_validate(X, y, knn, n_splits=5):\n",
        "    # TODO: Implement cross-validation\n",
        "    # Compute ROC AUC scores\n",
        "    from sklearn.model_selection import cross_val_score\n",
        "    from sklearn.neighbors import KNeighborsClassifier\n",
        "\n",
        "    # Create the KNN model\n",
        "    knn = KNeighborsClassifier(n_neighbors=5)\n",
        "\n",
        "    # Perform cross-validation and compute ROC AUC scores\n",
        "    cv_scores = cross_val_score(knn, X, y, cv=5, scoring='roc_auc')\n",
        "\n",
        "    # Output the cross-validation scores\n",
        "    print(f\"Cross-validation AUC scores: {cv_scores}\")\n",
        "    print(f\"Mean AUC score: {cv_scores.mean()}\")\n",
        "\n",
        "    return cv_scores.mean()"
      ]
    },
    {
      "cell_type": "code",
      "execution_count": null,
      "metadata": {
        "colab": {
          "base_uri": "https://localhost:8080/"
        },
        "id": "ex-LsNzGTZJz",
        "outputId": "5af62300-eaaa-42fa-8f46-9b94fc8cfe85"
      },
      "outputs": [
        {
          "output_type": "stream",
          "name": "stdout",
          "text": [
            "Cross-validation AUC scores: [0.87534258 0.87352836 0.86609007 0.87554447 0.86416553]\n",
            "Mean AUC score: 0.8709342022922829\n",
            "Cross-validation scores: 0.8709342022922829\n"
          ]
        }
      ],
      "source": [
        "# Load and preprocess data\n",
        "X, y, X_test = preprocess_data('train.csv', 'test.csv')\n",
        "\n",
        "# Create and evaluate model\n",
        "knn = KNN(k=5, distance_metric='euclidean')\n",
        "\n",
        "# Perform cross-validation\n",
        "cv_scores = cross_validate(X, y, knn)\n",
        "\n",
        "print(\"Cross-validation scores:\", cv_scores)\n",
        "\n",
        "# TODO: hyperparamters tuning\n",
        "best_k = 5\n",
        "\n",
        "# TODO: Train on full dataset with optimal hyperparameters and make predictions on test set\n",
        "knn = KNN(k=best_k, distance_metric='euclidean')\n",
        "knn.fit(X, y)\n",
        "test_predictions = knn.predict(X_test)\n",
        "\n",
        "\n",
        "# Save test predictions\n",
        "pd.DataFrame({'id': pd.read_csv('test.csv')['id'], 'Exited': test_predictions}).to_csv('submissions.csv', index=False)"
      ]
    },
    {
      "cell_type": "code",
      "execution_count": null,
      "metadata": {
        "id": "tz_-WrRjTZJ0"
      },
      "outputs": [],
      "source": []
    }
  ],
  "metadata": {
    "kernelspec": {
      "display_name": "Python 3 (ipykernel)",
      "language": "python",
      "name": "python3"
    },
    "language_info": {
      "codemirror_mode": {
        "name": "ipython",
        "version": 3
      },
      "file_extension": ".py",
      "mimetype": "text/x-python",
      "name": "python",
      "nbconvert_exporter": "python",
      "pygments_lexer": "ipython3",
      "version": "3.11.4"
    },
    "colab": {
      "provenance": []
    }
  },
  "nbformat": 4,
  "nbformat_minor": 0
}